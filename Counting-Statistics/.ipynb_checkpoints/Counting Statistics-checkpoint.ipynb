{
 "cells": [
  {
   "cell_type": "markdown",
   "metadata": {},
   "source": [
    "# Counting Statistics\n",
    "\n",
    "## Background\n",
    "\n",
    "<p> \n",
    "    Quantum mechanical processes are fundamentally random processes. For example one cannot predict at what time exactly an atom in an excited state performs a transition from an excited state to its ground state. What can be calculated is the probability for this process to occur within a certain time interval. Since the lifetimes of excited states in an atom are often very short it is difficult to directly observe the random nature of these processes. However certain nuclear processes occur with such small probabilities that the associated lifetimes are long and their random nature is relatively easy to observe. \n",
    "</p>\n",
    "\n",
    "## Definition of Probability\n",
    "\n",
    "<p>\n",
    "Assume that you make $N$ independent measurements (e.g. repeat the same measurement again and again). You observe different (for the moment discrete) results $x_i$ and you find each result $n_i$ times. The probability to observe the result $x_i$ is now defined as:\n",
    "</p>\n",
    "\n",
    "<p style=\"text-align:center; font-size:1.5em;\">\n",
    "$p(x_i) = \\lim_{N \\to \\infty}  \\frac{n_i}{N}, i = 1,2, ...$<strong style=\"float:right;\">(1)</strong>\n",
    "</p> \n",
    "\n",
    "## Rules for calculating with probabilities \n",
    "\n",
    "<ol>\n",
    "    <li>\n",
    "        <span style = 'font-size: 1.2em;'>$p(x_i) \\geq 0$</span>\n",
    "    </li>\n",
    "    <li>\n",
    "        If <span style = 'font-size: 1.2em;'>$x_i$</span> and \n",
    "        <span style = 'font-size: 1.2em;'>$x_j$</span> are two results which are mutually exclusive, then \n",
    "        <span style = 'font-size: 1.2em;'>$p(x_i $ or $ x_j) = p(x_i) + p(x_j)$</span>\n",
    "    </li>\n",
    "    <li>\n",
    "        The probability for <b>NOT</b> finding the result \n",
    "        <span style = 'font-size: 1.2em;'>$x_i$: $p(\\bar{x_i}) = 1 - p(x_i)$</span>\n",
    "    </li>\n",
    "    <li>\n",
    "        If <span style = 'font-size: 1.2em;'>$y_i$</span> is another quantity which is independent of \n",
    "        <span style = 'font-size: 1.2em;'>$x_i$</span> and occurs with the probability \n",
    "        <span style = 'font-size: 1.2em;'>$p(y_i)$</span>, then the probability of finding \n",
    "        <span style = 'font-size: 1.2em;'>$x_i$</span> and <span style = 'font-size: 1.2em;'>$y_j$</span> at the same time is           <span style = 'font-size: 1.2em;'>$p(x_i$and$y_j)=p(x_i)*p(y_j)$</span> \n",
    "    </li>\n",
    "</ol>\n",
    "\n",
    "## Distribution Functions\n",
    "\n",
    "<p>\n",
    "   There are in general two types of random variables; discrete variables as $x_i, i = 1,2 ...$ and continuous variables $x$. For a continuous variable one cannot define a probability for a certain exact value $x_0$ (it would be 0) but one can define the probability for a value being between $x_0$ and $x_0 +\n",
    "dx$. This probability is then defined as: \n",
    "</p>\n",
    "\n",
    "<p style=\"text-align:center; font-size:1.5em;\">\n",
    "    $dp(x_0)=p(x)|_{x=x_0}dx$<strong style=\"float:right;\">(2)</strong>\n",
    "</p>\n",
    "\n",
    "<p>\n",
    "here $p(x)$ is the probability density.\n",
    "</p>\n",
    "\n",
    "<p>\n",
    "$p(x_i)$ is called a distribution function. Under certain circumstances one can predict the distribution function that will describe the result of many repetitions of the same measurement. As a measurement we define the counting of the number of <b style = \"background-color:#fff8dc\">successes</b> resulting from a number of <b style = \"background-color:#fff8dc\">trials</b>. We assume that each trial is binary process that can only have two results: <b style = \"background-color:#fff8dc\">success</b> or <b style = \"background-color:#fff8dc\">failure</b>. In addition we assume that the probability for an individual success is constant for all trials.\n",
    "\n",
    "Examples of measurements that satisfy these conditions are shown in table below.\n",
    "</p>\n",
    "\n",
    "## Binary Processes\n",
    "\n",
    "|Trial                                               |Definition of Success                           |Probability     |\n",
    "|----------------------------------------------------|:----------------------------------------------:|----------------|\n",
    "|Tossing a coin                                      |Head                                            |$0.5$           |\n",
    "|Rolling a dice                                      |$6$     |<span style = 'font-size: 1.2em;'>${1 \\over 6}$<span>   |\n",
    "|Observing a given radioactive nucleus for a time $t$|The nucleus decays during the observation period|<span style = 'font-size: 1.2em;'>$1-e^{-\\lambda t}$</span>|\n",
    "    \n",
    "## Binomial Distribution\n",
    "\n",
    "<img style=\"width:50%; margin-right:30%;\" src=\"binomial.png\">\n",
    "\n",
    "<p>\n",
    "The most general distribution function is the Binomial Distribution. If the probability for a success (e.g. head) is called $p$. The probability of finding $x$ successes in $n$ trials is given by:\n",
    "</p>\n",
    "\n",
    "<p style = \"text-align: center; font-size:1.5em;\">\n",
    "$P(x) = \\frac{n!}{(n-x)!x!}p^x(1-p)^{n-x}$<strong style= \"float:right;\">(3)</strong>\n",
    "</p>\n",
    "\n",
    "<p>\n",
    "This is the Binomial distribution with the normalization:\n",
    "</p>\n",
    "<p style = \"text-align: center; font-size:1.5em;\">\n",
    "$\\sum_{x=0}^{n} P(x) = 1$<strong style=\"float:right;\">(4)</strong>\n",
    "</p>\n",
    "<p>\n",
    "and for the mean:\n",
    "</p>\n",
    "<p style= \"text-align: center; font-size:1.5em;\">\n",
    "$\\mu = \\sum_{x=0}^{n} x P(x) = np$<strong style=\"float:right;\">(5)</strong>\n",
    "</p>\n",
    "\n",
    "## Poisson Distribution\n",
    "\n",
    "<p>\n",
    "For most nuclear processes the probabilities $(p)$ of success are very small and a very large number of trials $(n)$ are necessary for success; mathematically one can write $n\\rightarrow \\infty$, $p \\rightarrow 0$ while $\\mu=np=const$. Under these circumstances the factorials in equation $(3)$ can be approximated using Stirling’s approximation leading to the Poisson distribution :\n",
    "</p>\n",
    "\n",
    "<p style=\"text-align: center; font-size:1.5em;\">\n",
    "    $P(x) = \\frac{ (pn)^x e^{-pn}}{x!}= \\frac{ \\mu^x e^{-\\mu}}{x!}$<strong style = \"float:right;\">(6)</strong>\n",
    "</p>\n",
    "\n",
    "<p>\n",
    "    where $\\mu = pn$. The mean can be obtained as before:\n",
    "</p>\n",
    "\n",
    "<p style=\"text-align: center; font-size:1.5em;\">\n",
    "  $\\mu = \\sum_{x=0}^n x P(x) = pn$<strong style=\"float:right;\">(7)</strong>  \n",
    "</p>\n",
    "\n",
    "<p>\n",
    "    and for the variance:\n",
    "</p>\n",
    "\n",
    "<p style=\"text-align:center; font-size:1.5em;\">\n",
    "    $\\sigma^2 = \\sum_{x=0}^{n} (x - \\mu)^2 P(x) = pn$<strong style=\"float:right;\">(8)</strong>\n",
    "</p>\n",
    "\n",
    "<p>\n",
    "    Therefore $\\sigma^2 = \\mu$ or $\\sigma = \\sqrt{\\mu}$ where $\\sigma$ is known as the standard deviation. This is a very \n",
    "    important result for the determination of uncertainties in counting experiments.\n",
    "</p>\n",
    "\n",
    "## Gaussian or Normal Distribution\n",
    "\n",
    "<img style=\"width:50%; margin-right:30%;\" src=\"Standard_deviation_diagram.png\">\n",
    "\n",
    "<p>\n",
    "    As the Poisson distribution is a simplified form of the Binomial distribution for small values of $p$ and $\\mu = np$, if one \n",
    "    allows the mean value $\\mu$ to become large the distribution changes into the Gaussian or Normal distribution:\n",
    "</p>\n",
    "\n",
    "<p style = \"text-align:center; font-size:1.5em;\">\n",
    "   $P(x) = \\frac{1}{\\sqrt{2\\pi\\mu}} e^{-\\frac{(x-\\mu)^2}{2\\mu}}$<strong style=\"float:right;\">(9)</strong>\n",
    "</p>\n",
    "\n",
    "<p>\n",
    "    This is still a discrete distribution since the values $x$ are counts. It has the same properties as the Poisson \n",
    "    distribution ((7), (8)) In this form the distribution is still completely defined by the value of the mean $\\mu = np$. \n",
    "    However if the instrument in use lost data or has an inefficiency and detects background events then this data\n",
    "    needs to be corrected for these problems. In this case the distribution function is no longer determined just by the mean, \n",
    "    but by the mean and the standard deviation $\\sigma$.\n",
    "</p>\n",
    "\n",
    "<p style = \"text-align:center; font-size:1.5em;\">\n",
    "    $P(x) = \\frac{1}{(\\sqrt{2\\pi}\\sigma)} e^{-\\frac{(x-\\mu)^2}{2\\sigma^2}}$<strong style=\"float:right;\">(10)</strong>\n",
    "</p>\n",
    "\n",
    "<p>\n",
    "    The distribution function really depends on the deviation $\\epsilon = x - \\mu$ and the standard deviation $\\sigma$. One can \n",
    "    then consider it as a continuous function of $t = \\frac{\\epsilon}{\\sigma}$ where $\\epsilon = x - \\mu$. One now asks what is \n",
    "    the probability for finding a value of $t$ between $t$ and $t + dt$. This is given by $G(t)dt$ with\n",
    "</p>\n",
    "\n",
    "<p style = \"text-align:center; font-size:1.5em;\">\n",
    "    $G(t) = \\sqrt{ \\frac{2}{\\pi}} e^{-\\frac{t^2}{2}}$<strong style=\"float:right;\">(11)</strong>\n",
    "</p>\n",
    "\n",
    "<p>\n",
    "    where $0 \\leq t \\leq \\infty$ and $G(t) =\n",
    "G(\\epsilon)\\frac{d\\epsilon}{dt} = G(\\epsilon)\\sigma$.\n",
    "\n",
    "The probability $f(t_0)$ of finding a value of $t$ smaller than a certain cut-off $t_{0}$ one calculates:\n",
    "</p>\n",
    "\n",
    "<p style = \"text-align: center; font-size: 1.5em;\">\n",
    "    $f(t_0) = \\int\\limits_0^{t_0} G(t) \\, dt$<strong style = float:right;>(12)</strong>\n",
    "</p>\n",
    "\n",
    "<p>\n",
    "    With the result that for $t_0 = 1 (\\epsilon = \\sigma)$,  $f(t_0) = 0.683$ (about $2 \\over 3$) and for $t_0 = 3 (\\epsilon = \n",
    "    3\\sigma)$, $f(t_0) = 0.997$. This means that about $2 \\over 3$ of all results should lie within one standard deviation from \n",
    "    the mean value and $99.7$ percent within $3 \\sigma$!\n",
    "\n",
    "The goal of the following measurements is to check if indeed results with a very small number of counts are described by Poisson distribution and if the number of counts in the result increases if it follows the Normal distribution. You can then also determine how the observed data rate depends on the distance between detector and source.\n",
    "</p>\n",
    "\n",
    "## Geometry of a Point Source\n",
    "\n",
    "<img style=\"width:50%; margin-right:30%;\" src=\"Inverse_square_law.png\">\n",
    "\n",
    "<p>\n",
    "    In this experiment we assume the that the $^{90}Sr$ source is a point source emitting electrons uniformly in $4\\pi$ \n",
    "    radians (The surface area of a sphere with radius 1, or in other words emitting in all directions.). A detector with an \n",
    "    opening area of \n",
    "    <b style = \"font-size:1.2em;background-color:#fff8dc;\"> $A_d = \\pi d^2/4$</b>, where \n",
    "    <b> $d$ is the diameter</b> , and at a <b>distance of $r$</b> receives therefore the fraction\n",
    "    <b style = \"font-size:1.2em;background-color:#fff8dc;\">$f = \\frac{A_d}{4\\pi r^2}$ </b> of all the electrons emitted per \n",
    "    . The (old) standard unit of activity is Curie $(Ci)$ where $1 Ci = 3.7\\cdot 10^{10}$ decays per second. From the \n",
    "    measurement of particle rate as a function of distance you can estimate the total activity of the source $S_{Sr}$. The final \n",
    "    relation ship between observed count rate, distance and activity in $Ci$ is as follows:\n",
    "</p>\n",
    "\n",
    "<p style = \"text-align: center; font-size: 1.5em;\">\n",
    "     $\\dot{N} = S_{Sr} \\cdot \\frac{\\pi d^2}{4} \\frac{1}{4\\pi r^2} \\cdot (3.7)\\cdot 10^{10}$<strong style = float:right;>(13)            </strong>\n",
    "</p>\n",
    "\n",
    "## Experiment\n",
    "\n",
    "### Packages\n",
    "<p>\n",
    "    Like last time, before we can do any coding, we need to import the necessary packages. Run the cell below to import all the tools we will need for this lab. \n",
    "</p>\n",
    "\n",
    "\n"
   ]
  },
  {
   "cell_type": "code",
   "execution_count": 2,
   "metadata": {},
   "outputs": [],
   "source": [
    "import numpy as np\n",
    "import pandas as pd\n",
    "import matplotlib.pyplot as plt"
   ]
  },
  {
   "cell_type": "markdown",
   "metadata": {},
   "source": [
    "### Creating Data Tables\n",
    "\n",
    "<p>\n",
    "    In the cells following each step of the experiment are data set templates for you to input your collected measurements. Make sure to note the code structure of these templates for future labs where you will be creating these data sets from scratch.\n",
    "</p>\n",
    "\n",
    "### Procedures\n",
    "<p>\n",
    "    Use a $^{90}Sr$ source, a Geiger-Mueller (GM) tube and the corresponding electronics. Connect the coaxial cable of the GM tube to the input of the counter and set the time interval to $5$ seconds.(THE END WINDOW IS VERY FRAGILE. DO NOT TOUCH IT.)\n",
    "</p>\n",
    "\n",
    "\n",
    "<p>\n",
    "    <b>(1)</b> Determine the detector plateau. The GM tube together with the counting electronics starts to work only above a \n",
    "    certain minimal voltage which needs to be determined experimentally. To do this set the counting time to $10$ seconds and \n",
    "    mount the source as close to the detector as possible (do not damage the thin entrance window!). If you use a small detector \n",
    "    (about a diameter of 1”) start with a voltage of $320 V$. If you have a bigger detector you need to start at about $450 - \n",
    "    500 V$. If the system does not show any counts, increase the voltage by $20 V$ and try again. Once you obtain counts record \n",
    "    the number of counts obtained for this voltage, increase the voltage by $20 V$ and record the number of counts again. Repeat \n",
    "    this process until at some point the number of counts do basically not change anymore. You have now reached a counting \n",
    "    plateau. Plot the counts as a function of detector voltage. Select as an operating voltage a value where the counts do not \n",
    "    vary anymore. (Typical values for the small detector are $420 V$ and for the large detectors $740V$).\n",
    "</p>\n",
    "\n"
   ]
  },
  {
   "cell_type": "code",
   "execution_count": 3,
   "metadata": {},
   "outputs": [
    {
     "data": {
      "text/plain": [
       "\"\\nUse the following code as a template for plotting the data\\n\\nplt.plot( xvalues here, yvalues here, 'bo') \\nplt.show()\\n\\nThe 'bo' plots the data as blue points\\n\""
      ]
     },
     "execution_count": 3,
     "metadata": {},
     "output_type": "execute_result"
    }
   ],
   "source": [
    "### Collecting the data ###\n",
    "\n",
    "data_1 = { 'Voltage':[],\n",
    "           '#Counts':[] }\n",
    "\n",
    "### Setting x and y values ###\n",
    "\n",
    "x = data_1['Voltage']\n",
    "'''\n",
    "Following the above example for capturing the voltage values\n",
    "from data_1 as x, do the same for #Counts below as y.\n",
    "\n",
    "'''\n",
    "### Plot the data ###\n",
    "'''\n",
    "Use the following code as a template for plotting the data\n",
    "\n",
    "plt.plot( xvalues here, yvalues here, 'bo') \n",
    "plt.show()\n",
    "\n",
    "The 'bo' plots the data as blue points\n",
    "'''\n",
    "\n"
   ]
  },
  {
   "cell_type": "markdown",
   "metadata": {},
   "source": [
    "<p>\n",
    "    <b>(2)</b>  Set the counter at such a distance from the source that you record about $1-2$ events in the shortest time \n",
    "    period possible. Record the results of $200$ such measurements.\n",
    "</p>\n",
    "\n"
   ]
  },
  {
   "cell_type": "code",
   "execution_count": 4,
   "metadata": {},
   "outputs": [
    {
     "data": {
      "text/html": [
       "<div>\n",
       "<style>\n",
       "    .dataframe thead tr:only-child th {\n",
       "        text-align: right;\n",
       "    }\n",
       "\n",
       "    .dataframe thead th {\n",
       "        text-align: left;\n",
       "    }\n",
       "\n",
       "    .dataframe tbody tr th {\n",
       "        vertical-align: top;\n",
       "    }\n",
       "</style>\n",
       "<table border=\"1\" class=\"dataframe\">\n",
       "  <thead>\n",
       "    <tr style=\"text-align: right;\">\n",
       "      <th></th>\n",
       "      <th>#Events</th>\n",
       "      <th>trial</th>\n",
       "    </tr>\n",
       "  </thead>\n",
       "  <tbody>\n",
       "  </tbody>\n",
       "</table>\n",
       "</div>"
      ],
      "text/plain": [
       "Empty DataFrame\n",
       "Columns: [#Events, trial]\n",
       "Index: []"
      ]
     },
     "execution_count": 4,
     "metadata": {},
     "output_type": "execute_result"
    }
   ],
   "source": [
    "### Fixed Measurements\n",
    "\n",
    "OpVoltage = None #Replace none with measured value\n",
    "OpVoltage_error = None\n",
    "distance_1 = None\n",
    "time_1 = None\n",
    "\n",
    "### Collect Data\n",
    "\n",
    "data_2 = {'trial':[],\n",
    "         '#Events':[]}\n",
    "\n",
    "pd.DataFrame(data_2)"
   ]
  },
  {
   "cell_type": "markdown",
   "metadata": {},
   "source": [
    "<p>\n",
    "    <b>(3)</b> After finishing the first series set the integration time and distance such that you count between $100$ and \n",
    "    $200$ counts in the shortest time possible. Take another series of $200$ measurements.\n",
    "</p>"
   ]
  },
  {
   "cell_type": "code",
   "execution_count": 5,
   "metadata": {},
   "outputs": [
    {
     "data": {
      "text/html": [
       "<div>\n",
       "<style>\n",
       "    .dataframe thead tr:only-child th {\n",
       "        text-align: right;\n",
       "    }\n",
       "\n",
       "    .dataframe thead th {\n",
       "        text-align: left;\n",
       "    }\n",
       "\n",
       "    .dataframe tbody tr th {\n",
       "        vertical-align: top;\n",
       "    }\n",
       "</style>\n",
       "<table border=\"1\" class=\"dataframe\">\n",
       "  <thead>\n",
       "    <tr style=\"text-align: right;\">\n",
       "      <th></th>\n",
       "      <th>#Events</th>\n",
       "      <th>trial</th>\n",
       "    </tr>\n",
       "  </thead>\n",
       "  <tbody>\n",
       "  </tbody>\n",
       "</table>\n",
       "</div>"
      ],
      "text/plain": [
       "Empty DataFrame\n",
       "Columns: [#Events, trial]\n",
       "Index: []"
      ]
     },
     "execution_count": 5,
     "metadata": {},
     "output_type": "execute_result"
    }
   ],
   "source": [
    "### Record Constants\n",
    "\n",
    "distance_2 = None\n",
    "time_2 = None\n",
    "\n",
    "### Collect Data\n",
    "\n",
    "data_3 = {'trial':[],\n",
    "         '#Events':[]}\n",
    "\n",
    "pd.DataFrame(data_3)"
   ]
  },
  {
   "cell_type": "markdown",
   "metadata": {},
   "source": [
    "<p>\n",
    "    <b>(4)</b> Obtain 1-minute counts for about $6$ different distances, $r$, between the source and the end window of the GM \n",
    "    tube. Make sure that you have no less than $40$ counts. Your smallest distance should be about $3$ times the diameter of the \n",
    "    detector window.\n",
    "</p>\n",
    "\n",
    "<p>\n",
    "    <b>(5)</b> Determine the back ground rate by removing the source and counting for $2$ minutes. This rate you need to \n",
    "    subtract from your earlier data.\n",
    "</p>"
   ]
  },
  {
   "cell_type": "code",
   "execution_count": 6,
   "metadata": {},
   "outputs": [],
   "source": [
    "### Record Constants\n",
    "\n",
    "time = None\n",
    "time_error = None\n",
    "backgrndrate = None\n",
    "backgrndrate_error = None\n",
    "diameter = None\n",
    "\n",
    "### Collect Data\n",
    "\n",
    "data_4 = {'distance':[],\n",
    "          '#Counts':[]}\n"
   ]
  },
  {
   "cell_type": "markdown",
   "metadata": {},
   "source": [
    "## Data Analysis\n",
    "\n",
    "<p>\n",
    "    <b>(1)</b>  Calculate the mean and the standard deviation for <b>data_2</b>. Create a histogram with a bin width of 1. Find \n",
    "    the value with the highest content (frequency). When you divide the bin contents by the total number of measurements, you \n",
    "    will have an experimental estimate for the probability of each result. \n",
    "</p>"
   ]
  },
  {
   "cell_type": "code",
   "execution_count": 7,
   "metadata": {},
   "outputs": [
    {
     "data": {
      "text/plain": [
       "'\\nNow, below, Calculate the mean and standard deviation using the \\nnp.mean() and np.std() functions, respectively. The two require an array as input\\n'"
      ]
     },
     "execution_count": 7,
     "metadata": {},
     "output_type": "execute_result"
    }
   ],
   "source": [
    "'''\n",
    "Recall from prior labs that our data is stored as lists\n",
    "so if we want to get all 'mathy' with them we need to convert them to arrays \n",
    "'''\n",
    "trial_set1 = np.asarray( data_2['trial'] ) #Do the same for the '#Events' column below\n",
    "\n",
    "'''\n",
    "Now, below, Calculate the mean and standard deviation using the \n",
    "np.mean() and np.std() functions, respectively. The two require an array as input\n",
    "'''\n",
    "### Write that code here ###\n"
   ]
  },
  {
   "cell_type": "code",
   "execution_count": 20,
   "metadata": {},
   "outputs": [
    {
     "data": {
      "image/png": "[encoded data removed]",
      "text/plain": [
       "<matplotlib.figure.Figure at 0x66cbdd0>"
      ]
     },
     "metadata": {},
     "output_type": "display_data"
    }
   ],
   "source": [
    "'''\n",
    "Now we want to create a histogram of bin width 1. This means every element in each\n",
    "bin has the exact same number of counts. Whereas a bin width of 20 would imply that every element within the\n",
    "bin would have a value at most 20 apart from eachother.\n",
    "\n",
    "A template for plotting the histogram is shown below. Run the code to get an idea\n",
    "of what the output should look like. Then replace the demo inputs with the necessary values and run the code.\n",
    "'''\n",
    "DemoData = np.array([1,2,5,4,2,5,6,7,1,4,3,8,6,5,5,9,6,7,7,5,5,])\n",
    "binwidth = 2\n",
    "\n",
    "plt.hist(DemoData, bins=np.arange(min(DemoData), max(DemoData) + 2, 2))\n",
    "plt.title(\"title here\")\n",
    "plt.xlabel(\"DemoData\")\n",
    "plt.ylabel(\"DataFrequency\")\n",
    "plt.show()"
   ]
  },
  {
   "cell_type": "markdown",
   "metadata": {},
   "source": [
    "<p>\n",
    "    Is the result better described by a Poisson distribution or by a Gaussian distribution? \n",
    "</p>"
   ]
  },
  {
   "cell_type": "markdown",
   "metadata": {},
   "source": [
    "Answer here:"
   ]
  },
  {
   "cell_type": "markdown",
   "metadata": {},
   "source": [
    "<p>\n",
    "    (2) Calculate the mean and the standard deviation for <b>data_3</b>. Create a histogram with a bin width of 10. Find the \n",
    "    value with the highest content (frequency). When you divide the bin contents by the total number of measurements you have an \n",
    "    experimental estimate for the probability of each result. Fit a gaussian distribution to the histogram. Compare the fit \n",
    "    results to the calculated mean and variance.\n",
    "</p>"
   ]
  },
  {
   "cell_type": "code",
   "execution_count": null,
   "metadata": {},
   "outputs": [],
   "source": []
  }
 ],
 "metadata": {
  "kernelspec": {
   "display_name": "Python 3",
   "language": "python",
   "name": "python3"
  },
  "language_info": {
   "codemirror_mode": {
    "name": "ipython",
    "version": 3
   },
   "file_extension": ".py",
   "mimetype": "text/x-python",
   "name": "python",
   "nbconvert_exporter": "python",
   "pygments_lexer": "ipython3",
   "version": "3.6.3"
  }
 },
 "nbformat": 4,
 "nbformat_minor": 2
}
