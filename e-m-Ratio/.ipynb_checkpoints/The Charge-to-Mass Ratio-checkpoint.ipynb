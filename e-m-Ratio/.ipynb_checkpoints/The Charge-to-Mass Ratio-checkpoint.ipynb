{
 "cells": [
  {
   "cell_type": "markdown",
   "metadata": {},
   "source": [
    "# The $e/m_e$ Ratio\n",
    "\n",
    "### Credited to Werner Boeglin\n",
    "\n",
    "## Experiment Background\n",
    "\n",
    "<p>This classic experiment was first carried out by J.J.Thomson in 1897. It involves the use of an electric field to accelerate electrons up to high velocity, and a magnetic field to then steer the electrons in a circular trajectory. The electrons are released by thermionic emission from a heated filament (cathode) and are accelerated towards a cylindrical anode. See Fig.1 and Fig.2. This is a similar situation to the electron gun used to generate the electron beam in an X-ray tube or in an electron microscope.</p>\n",
    "\n",
    "<img style=\"width:50%\" src=\"OffCharge.jpg\" />\n",
    "<p style=\"text-align:center;\">Figure 1: Picture of the e/m apparatus.</p>\n",
    "<img style=\"width:50%;\" src=\"e_m_apparatus.png\" />\n",
    "<p style=\"text-align:center;\">Figure 2: Schematic of the e/m apparatus.</p>\n",
    "<br>\n",
    "<p>As the electrons accelerate from the cathode to the anode, they loose potential energy, $U_e = eV $, and gain an equal amount of kinetic energy, $K_e = \\frac{1}{2}m_e v^2$. Therefore they arrive at the anode with a velocity given by:</p>\n",
    "<p style=\"text-align:center; font-size:1.5em;\">$v_e = \\sqrt{\\frac{2 e V}{m_e}}$<strong style=\"float:right;\">(1)</strong></p>\n",
    "<p>Some of the electrons escape with this velocity though a narrow aperture in the anode into a region where a uniform magnetic field exists. In Fig. 1 this field, which is not shown would point out of of the paper and towards the reader. The field exerts a magnetic force with a magnitude of $F = evB$ (since the velocity and the magnetic field are perpendicular to each other). The direction of the force is perpendicular to the velocity and acts as a centripetal force:</p>\n",
    "<p style=\"text-align:center; font-size:1.5em;\">$ev_eB = \\frac{m_e v_e^2}{r}$<strong style=\"float:right;\">(2)</strong></p>\n",
    "<p>Where $r$ is the radius of the path. Eliminating  $V$ between equations (1) and (2) one obtains the charge to mass ratio:</p>\n",
    "<p style=\"text-align:center; font-size:1.5em;\">$R_{em} = \\frac{e}{m_e} = \\frac{2V}{B^2 r^2}$<strong style=\"float:right;\">(3)</strong></p>\n",
    "<p>The magnetic field is produced by the current flowing in two <b style=\"background-color:#fff8dc\">Helmholtz coils</b>. The distance between these circular coils is equal to their radius, an arrangement that results in a reasonably uniform, axial magnetic field midway between the coils. The magnitude of the magnetic field, $B$ , in this region sis given by</p>\n",
    "<p style=\"text-align:center; font-size:1.5em;\">$B = \\frac{\\mu_0 N I}{R} \\left(\\frac{4}{5}\\right)^{3/2}$<strong style=\"float:right;\">(4)</strong></p>\n",
    "<p>In which,</p> \n",
    "<p style=\"text-align:center;\">\n",
    "$N$: Number of turns in each coil = 132 Turns\n",
    "<br>\n",
    "$I$: Current propagating through the coil\n",
    "<br>\n",
    "$R$: Radius of the coil\n",
    "<br>\n",
    "<br>\n",
    "<i style=\"font-size:1.2em;\">We will leave the derivation of equation 4 as an exercise to the reader.</i>\n",
    "</p>\n",
    "\n",
    "## Procedures\n",
    "<p>We are going to determine the ratio $e/m_e$ by determining the B-field and the radius of curvature of the electron beam in the magnetic field. To do this you select an accelerating voltage $V$ and keep it constant while you vary the magnetic field by varying the current in the coils. For each magnetic field setting you will then determine the radius of curvature of the beam. From each measurement you should be able to extract the ratio $e/m_e$ and in the end you will calculate the (weighted) average.</p>\n",
    "### Gathering Data\n",
    "<ol>\n",
    "    <li>Select the following accelerating voltages: 150, 200 , 300 and 400 V. Take your uncertainties into account.</li>\n",
    "    <li>For each voltage setting record the current in the coil and the path diameter (or the radius) of the electron path. Make about 10 measurements equally spaced between the smallest and the largest current for which you can still measure the path diameter. Estimate the error of the diameter (radius) measurement. Does the current have a uncertainty? If so, take it into account as well.</li>\n",
    "    <li>Record your data for each voltage setting.</li>\n",
    "    <li>Measure the diameter of the Helmholtz coils and note the number of windings.</li>\n",
    "</ol>"
   ]
  },
  {
   "cell_type": "markdown",
   "metadata": {
    "collapsed": true
   },
   "source": [
    "## 1 - Packages\n",
    "First, let's run the cell below to import all the packages that you will need during this assignment.\n",
    "\n",
    "<li><a href=\"http://www.numpy.org\">numpy</a> is the fundamental package for scientific computing with Python.</li>\n",
    "<li><a href=\"http://matplotlib.com\">matplotlib</a> is a famous library to plot graphs in Python.</li>\n",
    "<li><a href=\"http://pandas.pydata.org/\">pandas</a>  an open source easy-to-use data structures and data analysis tools for the Python programming language.</li>"
   ]
  },
  {
   "cell_type": "code",
   "execution_count": 2,
   "metadata": {
    "collapsed": true
   },
   "outputs": [],
   "source": [
    "import numpy as np\n",
    "import matplotlib.pyplot as plt\n",
    "import pandas as pd"
   ]
  },
  {
   "cell_type": "markdown",
   "metadata": {},
   "source": [
    "### Creating Data Structures\n",
    "<p>To be able to analyze your experiment without tearing your hair off you need to create a data structure. Think of the following data structure like a spreadsheet. Since we are recording measurements of the Current propagating through the coil and the electron beam's Diameter we will have two columns and several rows! Run the code below and see how to create your dataset</p>"
   ]
  },
  {
   "cell_type": "code",
   "execution_count": 3,
   "metadata": {
    "collapsed": true
   },
   "outputs": [],
   "source": [
    "# Example data set\n",
    "data = {'Current(A)' : [1., 2., 3., 4.],\n",
    "     'Diameter(cm)' : [4., 3., 2., 1.]}"
   ]
  },
  {
   "cell_type": "code",
   "execution_count": 4,
   "metadata": {},
   "outputs": [
    {
     "name": "stdout",
     "output_type": "stream",
     "text": [
      "My sample current is [1.0, 2.0, 3.0, 4.0] Amps\n",
      "My electron beam's diameter is [4.0, 3.0, 2.0, 1.0] centimeters\n"
     ]
    },
    {
     "data": {
      "text/html": [
       "<div>\n",
       "<style>\n",
       "    .dataframe thead tr:only-child th {\n",
       "        text-align: right;\n",
       "    }\n",
       "\n",
       "    .dataframe thead th {\n",
       "        text-align: left;\n",
       "    }\n",
       "\n",
       "    .dataframe tbody tr th {\n",
       "        vertical-align: top;\n",
       "    }\n",
       "</style>\n",
       "<table border=\"1\" class=\"dataframe\">\n",
       "  <thead>\n",
       "    <tr style=\"text-align: right;\">\n",
       "      <th></th>\n",
       "      <th>Current(A)</th>\n",
       "      <th>Diameter(cm)</th>\n",
       "    </tr>\n",
       "  </thead>\n",
       "  <tbody>\n",
       "    <tr>\n",
       "      <th>0</th>\n",
       "      <td>1.0</td>\n",
       "      <td>4.0</td>\n",
       "    </tr>\n",
       "    <tr>\n",
       "      <th>1</th>\n",
       "      <td>2.0</td>\n",
       "      <td>3.0</td>\n",
       "    </tr>\n",
       "    <tr>\n",
       "      <th>2</th>\n",
       "      <td>3.0</td>\n",
       "      <td>2.0</td>\n",
       "    </tr>\n",
       "    <tr>\n",
       "      <th>3</th>\n",
       "      <td>4.0</td>\n",
       "      <td>1.0</td>\n",
       "    </tr>\n",
       "  </tbody>\n",
       "</table>\n",
       "</div>"
      ],
      "text/plain": [
       "   Current(A)  Diameter(cm)\n",
       "0         1.0           4.0\n",
       "1         2.0           3.0\n",
       "2         3.0           2.0\n",
       "3         4.0           1.0"
      ]
     },
     "execution_count": 4,
     "metadata": {},
     "output_type": "execute_result"
    }
   ],
   "source": [
    "# Showing our structured data\n",
    "print(\"My sample current is \" + str(data[\"Current(A)\"]) + \" Amps\")\n",
    "print(\"My electron beam's diameter is \" + str(data[\"Diameter(cm)\"]) + \" centimeters\")\n",
    "\n",
    "pd.DataFrame(data)\n"
   ]
  },
  {
   "cell_type": "markdown",
   "metadata": {},
   "source": [
    "## 2. Creating the Data Set\n",
    "\n",
    "<p>Now that we know how to make clean data structures, lets make the data sets for the four required voltages. Since we will take the uncertainties into account we will hardcode those variables to become parameters. If you recorded the radius make sure to replace Diameter with Radius in the data structure.</p>"
   ]
  },
  {
   "cell_type": "code",
   "execution_count": null,
   "metadata": {
    "collapsed": true
   },
   "outputs": [],
   "source": [
    "# Your data set that you recorded in lab\n",
    "\n",
    "# Uncertainties\n",
    "### START CODE HERE ###\n",
    "    Current_err = None\n",
    "    Electron_Beam_Diameter_err = None\n",
    "    Voltage_err = None\n",
    "    Coil_Turn_err = None\n",
    "    Coil_Radius_err = None\n",
    "    \n",
    "    Coil_Radius = None\n",
    "    Coil_Turns = None\n",
    "### END CODE HERE ###\n",
    "\n",
    "# Current vs Electron beam diameter\n",
    "### START CODE HERE ###\n",
    "    _150V = {'Current(A)' : [],\n",
    "     'Diameter(cm)' : []}\n",
    "    \n",
    "    _200V = {'Current(A)' : [],\n",
    "     'Diameter(cm)' : []}\n",
    "    \n",
    "    _300V = {'Current(A)' : [],\n",
    "     'Diameter(cm)' : []}\n",
    "    \n",
    "    _400V = {'Current(A)' : [],\n",
    "     'Diameter(cm)' : []}\n",
    "### END CODE HERE ###"
   ]
  },
  {
   "cell_type": "markdown",
   "metadata": {},
   "source": [
    "##  Error Calculation\n",
    "\n",
    "<p>All measured quantities have an uncertainty associated with them as it is impossible to measure any quantity with infinite precision. An experimental uncertainty is also often called an experimental error. This should <b>NOT</b> be confused with the difference between a published or theoretical value and your experimental result. The experimental uncertainty is often represented by the symbol $\\sigma$. If several experimental quantities contribute to your final result you need to estimate how the uncertainties in your measurements will affect the uncertainty in your final result. The simplest estimate is to calculate the partial derivatives of your final results with respect to each experimental quantity and add the various contributions in quadrature.</p>\n",
    "\n",
    "<p>Let’s assume you have measured the quantities $x_e \\pm \\sigma_x$, $y_e \\pm \\sigma_y$ and $z_e \\pm\n",
    "\\sigma_z$, where $\\sigma_x$, $\\sigma_y$, $\\sigma_z$ are the respective uncertainties (measurement errors). You use these values to calculate a new quantity</p>\n",
    "\n",
    "<p style=\"text-align:center; font-size:1.5em;\">$Y = f(x_e,y_e,z_e)$<strong style=\"float:right;\">(5)</strong></p>\n",
    "<p>You can now determine the uncertainty $\\sigma_Y$ as follows:</p>\n",
    "\n",
    "<p style=\"text-align:center; font-size:1.5em;\">$\\sigma_Y = \\sqrt{\\left(\\frac{\\partial Y}{\\partial x_e}\n",
    "\\sigma_x\\right)^2 + \\left(\\frac{\\partial Y}{\\partial y_e}\n",
    "\\sigma_y\\right)^2 + \\left(\\frac{\\partial Y}{\\partial z_e}\n",
    "\\sigma_z\\right)^2}$<strong style=\"float:right;\">(6)</strong></p>\n",
    "\n",
    "<p style=\"font-size:1.2em;\">Let’s apply this to the ratio $R_{em} = \\frac{e}{m_e} =\n",
    "\\frac{2V}{B^2 r^2}$. Note that all variables, $V, B, r$ have uncertainties $\\sigma_V$, $\\sigma_B$, $\\sigma_r$.</p>\n",
    "\n",
    "<ol>\n",
    "    <li>$\\sigma_V$, uncertainty in $V$ from reading the instrument</li>\n",
    "    <li>$\\sigma_B$, uncertainty in $B$ this needs to be calculated since the field is a function of $N$, $R$ and $I$ (see (4) which are all measured quantities that have uncertainties: $\\sigma_N,\\sigma_R, \\sigma_I$)</li>\n",
    "    <li>$\\sigma_r$, uncertainty in $r$ from measuring $r$.</li>\n",
    "    \n",
    "</ol>\n"
   ]
  },
  {
   "cell_type": "markdown",
   "metadata": {
    "collapsed": true
   },
   "source": [
    "## Weighted Mean\n",
    "\n",
    "<p>Assume you have several experimental values $X_i \\pm \\sigma_i$, where $i = 1 ... N$, for the same quantity $X$ (e.g. $R_{em}$). You want to calculate the average of these values taking into account the uncertainty associated with each individual one. This means that a measurement with a big uncertainty should not contribute as much as a measurement with a much smaller uncertainty. This can be done using the following expressions:</p>\n",
    "<p style=\"text-align:center; font-size:1.5em;\">$\\bar{X} = \\frac{\\sum_{i=1}^N\\frac{X_i}{\\sigma_i^2}}{\\sum_{i=1}^N\\frac{1}{\\sigma_i^2}}$\n",
    "\n",
    "<strong style=\"float:right;\">(7)</strong></p> \n",
    "<p style=\"text-align:center; font-size:1.5em;\">$\\sigma_{\\bar{X}} = \\sqrt{\\frac{1}{\\sum_{i=1}^N\\frac{1}{\\sigma_i^2}}}$\n",
    "\n",
    "<strong style=\"float:right;\">(8)</strong></p>\n",
    "<p>In which, $\\bar{X}$ is the weighted mean and $\\sigma_{\\bar{X}}$ its uncertainty.</p>"
   ]
  },
  {
   "cell_type": "markdown",
   "metadata": {
    "collapsed": true
   },
   "source": [
    "# Data Analysis\n",
    "\n",
    "## 3. Calculate $B$ and $\\sigma_B$ for each data point\n",
    "\n",
    "In order to calculate $B$ we must refer back to equation (4):\n",
    "<p style=\"text-align:center; font-size:1.5em;\">$B = \\frac{\\mu_0 N I}{R} \\left(\\frac{4}{5}\\right)^{3/2}$<strong style=\"float:right;\">(4)</strong></p>\n",
    "To find the magnetic field $B$ we must use the current propagating through the coil. Once we find the magnetic field lets append it to our data set.\n",
    "We will need the magnetic constant:\n",
    "<p style=\"font-size:1.3em; text-align:center;\">$\\mu_0 = 1.2566370614×10^{−6}$   $T⋅m/A$ </p>"
   ]
  },
  {
   "cell_type": "code",
   "execution_count": 12,
   "metadata": {},
   "outputs": [
    {
     "name": "stdout",
     "output_type": "stream",
     "text": [
      "{'Current(A)': [1.0, 2.0, 3.0, 4.0], 'Diameter(cm)': [4.0, 3.0, 2.0, 1.0], 'Bfield': array([  1.18691264e-05,   2.37382528e-05,   3.56073792e-05,\n",
      "         4.74765056e-05])}\n"
     ]
    }
   ],
   "source": [
    "# GRADED FUNCTION\n",
    "\n",
    "# Find the magnetic field for every recorded data point\n",
    "'''\n",
    "    Your inputs will be the number of turns the coil has, its radius, the Voltage data set and your \n",
    "    outputs should return the magnetic field\n",
    "    \n",
    "    On another note... When we call our data like how current is called on Creating Data Structures \n",
    "    Example (data[\"Current(A)\"]) this will come out as a list. Unfortunately, we cannot do calculations \n",
    "    with lists and we must turn them into arrays! We will do this with the numpy asarray() function.\n",
    "    Example:\n",
    "    myarray = np.asarray(mylist) \n",
    "    \n",
    "    Don't forget your units!!!\n",
    "'''\n",
    "\n",
    "### START CODE HERE ###\n",
    "def Bfield(Coil_Turns, Coil_Radius, Voltage_Data):\n",
    "    Mconstant = None\n",
    "    # Hint, look at the example of converting a list to an array...\n",
    "    Current = None\n",
    "    B = None\n",
    "        \n",
    "    return B\n",
    "\n",
    "# Append the magnetic field to data set\n",
    "\n",
    "'''In case the understanding of the data structure isn't clear yet we have provided a sample \n",
    "    to append your magnetic field to the data'''\n",
    "\n",
    "_150V[\"Bfield\"] = Bfield(Coil_Turns, Coil_Radius, _150V)\n",
    "_200V[\"Bfield\"] = None\n",
    "_300V[\"Bfield\"] = None\n",
    "_400V[\"Bfield\"] = None\n",
    "### END CODE HERE ###\n",
    "# This is how to print out your tables using pd.DataFrame(Data set)\n",
    "\n",
    "pd.DataFrame(_150V)\n",
    "pd.DataFrame(_200V)\n",
    "pd.DataFrame(_300V)\n",
    "pd.DataFrame(_400V)\n"
   ]
  },
  {
   "cell_type": "markdown",
   "metadata": {},
   "source": [
    "### Calculating $\\sigma_B$\n",
    "In order to calculate the error in our magnetic field, $B$, calculation we are going to have equation (4) and (6). We will have to take partial derivatives of the variables we are using. We have calculated them for you:\n",
    "<p style=\"text-align:center; font-size:1.5em;\">$\\left(\\frac{\\partial B}{\\partial N}\\right) = \\frac{\\mu_0 I}{R}\n",
    "\\left(\\frac{4}{5}\\right)^{3/2},$\n",
    "$\\left(\\frac{\\partial B}{\\partial R}\\right) = -\\frac{\\mu_0 IN}{R^2}\\left(\\frac{4}{5}\\right)^{3/2},$\n",
    "$\\left(\\frac{\\partial B}{\\partial I}\\right) = \\frac{\\mu_0 N}{R}\\left(\\frac{4}{5}\\right)^{3/2}$\n",
    "<strong style=\"float:right;\">(9)</strong></p>\n",
    "\n",
    "Which after plugging it in to equation (6) it will simplify down to:\n",
    "\n",
    "<p style=\"text-align:center; font-size:1.5em;\">$\\sigma_B = \\left(\\frac{4}{5}\\right)^{3/2} \\mu_0 \\sqrt{\\left(\\frac{I}{R} \\right)^2 \\sigma_N^2 +\\left(\\frac{IN}{R^2}\\right)^2 \\sigma_R^2 +\\left(\\frac{N}{R} \\right)^2 \\sigma_I^2}$<strong style=\"float:right;\">(10)</strong></p>\n",
    "\n"
   ]
  },
  {
   "cell_type": "code",
   "execution_count": null,
   "metadata": {
    "collapsed": true
   },
   "outputs": [],
   "source": [
    "# GRADED FUNCTION\n",
    "\n",
    "''' Find the uncertainty of your magnetic field calculations using the partial derivatives of the magnetic field \n",
    "    with the independent variables of the magnetic field calculation.'''\n",
    "\n",
    "def Bfield_err(Coil_Turns, Coil_Turn_err, Coil_Radius, Coil_Radius_err, Voltage_Data, Current_err):\n",
    "    ### START CODE HERE ###\n",
    "    Mconstant = None\n",
    "    Current = None\n",
    "    # Partial Derivatives\n",
    "    dBdN = None\n",
    "    dBdR = None\n",
    "    dBdI = None\n",
    "    \n",
    "    # Calculating sigma B use np.sqrt() for the square root\n",
    "    \n",
    "    sigma_B = None\n",
    "    \n",
    "\n",
    "    \n",
    "    return sigma_B\n",
    "\n",
    "# Append the error to the data set, then print out your data set tables\n",
    "\n",
    "_150V[\"Bfield_err\"] = None\n",
    "_200V[\"Bfield_err\"] = None\n",
    "_300V[\"Bfield_err\"] = None\n",
    "_400V[\"Bfield_err\"] = None\n",
    "\n",
    "\n",
    "\n",
    "\n",
    "    ### END CODE HERE ###"
   ]
  },
  {
   "cell_type": "markdown",
   "metadata": {},
   "source": [
    "## 4. Calculate $R_{em}$ and $\\sigma_{R_{em}}$ for each data point\n",
    "\n",
    "To calculate the $e/m_e$ ratio we will need to refer back to equation (3).\n",
    "<p style=\"text-align:center; font-size:1.5em;\">$R_{em} = \\frac{e}{m_e} = \\frac{2V}{B^2 r^2}$<strong style=\"float:right;\">(3)</strong></p>\n"
   ]
  },
  {
   "cell_type": "code",
   "execution_count": null,
   "metadata": {
    "collapsed": true
   },
   "outputs": [],
   "source": [
    "# GRADED FUNCTION\n",
    "\n",
    "'''Since we have not declared our voltage in every data point of our Voltage_Data we must make it a \n",
    "variable to use it in our function. Remember the r here is for the electron beam's radius.\n",
    "'''\n",
    "def Rem(Voltage_Data, Voltage):\n",
    "    ### START CODE HERE ###\n",
    "    Bfield = None\n",
    "    Radius = None\n",
    "    \n",
    "    Ratio = None\n",
    "    \n",
    "    return Ratio\n",
    "\n",
    "# Append your Ratios to the data set and print it afterwards\n",
    "\n",
    "_150V[\"emRatio\"] = None\n",
    "_200V[\"emRatio\"] = None\n",
    "_300V[\"emRatio\"] = None\n",
    "_400V[\"emRatio\"] = None\n",
    "\n",
    "\n",
    "\n",
    "\n",
    "    ### END CODE HERE ###"
   ]
  },
  {
   "cell_type": "markdown",
   "metadata": {},
   "source": [
    "### Calculating $\\sigma_{R_{em}}$\n",
    "In order to calculate the error in our electron charge to mass ratio, $R_{em}$, calculation we are going to use equation (3) and (6). We will have to take partial derivatives of the variables we are using. We have calculated them for you:\n",
    "\n",
    "\n",
    "\n",
    "\n",
    "\n",
    "\n",
    "\n",
    "\n",
    "<p style=\"text-align:center; font-size:1.5em;\">$\\left(\\frac{\\partial R_{em}}{\\partial V}\\right) = \\frac{2}{B^2r^2},$\n",
    "$\\left(\\frac{\\partial R_{em}}{\\partial B}\\right) = -4\\frac{V}{B^3r^2},$\n",
    "$\\left(\\frac{\\partial R_{em}}{\\partial r}\\right) = -4\\frac{V}{B^2r^3},$\n",
    "<strong style=\"float:right;\">(11)</strong></p>\n",
    "\n",
    "Which after plugging it in to equation (6) it will simplify down to:\n",
    "\n",
    "<p style=\"text-align:center; font-size:1.5em;\">$\\sigma_{R_{em}} = \\sqrt{\n",
    " \\left(\\frac{2}{B^2r^2} \\right)^2\\sigma_V^2 +\n",
    " \\left(4\\frac{V}{B^3r^2} \\right)^2\\sigma_B^2 +\n",
    " \\left(4\\frac{V}{B^2r^3} \\right)^2\\sigma_r^2}$<strong style=\"float:right;\">(12)</strong></p>\n",
    "\n"
   ]
  },
  {
   "cell_type": "code",
   "execution_count": null,
   "metadata": {
    "collapsed": true
   },
   "outputs": [],
   "source": [
    "# GRADED FUNCTION\n",
    "\n",
    "''' Find the uncertainty of your magnetic field calculations using the partial derivatives of the magnetic field \n",
    "    with the independent variables of the magnetic field calculation.'''\n",
    "\n",
    "def Rem_err(Voltage_Data, Voltage, Voltage_err, Electron_Beam_Diameter_err):\n",
    "    ### START CODE HERE ###\n",
    "    Bfield = None\n",
    "    Radius = None\n",
    "    Bfield_err = None\n",
    "    # Partial Derivatives\n",
    "    dRemdV = None\n",
    "    dRemdB = None\n",
    "    dRemdr = None\n",
    "    \n",
    "    # Calculating sigma Rem use np.sqrt() for the square root\n",
    "    \n",
    "    sigma_Rem = None\n",
    "    \n",
    "\n",
    "    \n",
    "    return sigma_Rem\n",
    "\n",
    "# Append the error to the data set, then print out your data set tables\n",
    "\n",
    "_150V[\"emRatio_err\"] = None\n",
    "_200V[\"emRatio_err\"] = None\n",
    "_300V[\"emRatio_err\"] = None\n",
    "_400V[\"emRatio_err\"] = None\n",
    "\n",
    "\n",
    "\n",
    "\n",
    "    ### END CODE HERE ###"
   ]
  },
  {
   "cell_type": "markdown",
   "metadata": {},
   "source": [
    "## 5. Make a plot of $R_{em}$ vs. $I$ \n",
    "\n",
    "We will be using <code>matplotlib</code> for plotting, it is a very famous library for plotting and analyzing plots. As an example, we will use the Data Structures Example for plotting. First, we need to import the library for plotting, then we will plot the data. Since our data structure is in the pandas.DataFrame format it makes it much easier.\n",
    "\n",
    "Notice how $R_{em}$ does not depend on $I$. Why is that? "
   ]
  },
  {
   "cell_type": "code",
   "execution_count": 6,
   "metadata": {
    "collapsed": true
   },
   "outputs": [],
   "source": [
    "import matplotlib.pyplot as plt"
   ]
  },
  {
   "cell_type": "code",
   "execution_count": 5,
   "metadata": {},
   "outputs": [
    {
     "data": {
      "image/png": "[encoded data removed]",
      "text/plain": [
       "<matplotlib.figure.Figure at 0x110d8ed30>"
      ]
     },
     "metadata": {},
     "output_type": "display_data"
    }
   ],
   "source": [
    "# Sample of multiple figured plots\n",
    "\n",
    "sample_Diameter_err = 0.2\n",
    "sample_Current_err = 0.5\n",
    "\n",
    "'''We have created this sample with errors to know how to plot using error bars in matplotlib's pyplot library.\n",
    "'''\n",
    "# We are creating Figure 1 where we will have multiple plots here. Change the figsize to be to your ideal.\n",
    "\n",
    "plt.figure(1, figsize=(13, 5))\n",
    "\n",
    "'''We are creating the subplot (numrows, numcols, fignum) for the figure's plots.\n",
    "    \n",
    "    We have to plot the error in the y axis, which should be in your constants stated priorly or in your \n",
    "    data set. \n",
    "    Where we have 'data = data' you should place 'data = your data set'. \n",
    "    \n",
    "    We have the fmt = 'o' to have the data be in scatter plot format instead of a line plot.\n",
    "'''\n",
    "plt.subplot(121)\n",
    "\n",
    "plt.errorbar('Current(A)', 'Diameter(cm)', yerr = sample_Diameter_err, data = data, fmt = 'o')\n",
    "plt.xlabel('Current(A)')\n",
    "plt.ylabel('Diameter(cm)')\n",
    "plt.title('Sample Plot 1')\n",
    "\n",
    "plt.subplot(122)\n",
    "\n",
    "plt.errorbar('Diameter(cm)', 'Current(A)', yerr = sample_Current_err, data=data, fmt = 'o')\n",
    "plt.xlabel('Diameter(cm)')\n",
    "plt.ylabel('Current(A)')\n",
    "plt.title('Sample Plot 2')\n",
    "plt.show()"
   ]
  },
  {
   "cell_type": "code",
   "execution_count": 11,
   "metadata": {
    "collapsed": true
   },
   "outputs": [],
   "source": [
    "# Plot your e/m Ratio to Current\n",
    "'''\n",
    "Hint: use subplot(22#) this means its a 2 x 2 figure and don't forget to use your data set where it's required.\n",
    "'''\n",
    "### START CODE HERE ###(~16 lines of code)\n",
    "\n",
    "### END CODE HERE ###"
   ]
  },
  {
   "cell_type": "markdown",
   "metadata": {},
   "source": [
    "## 6. Calculate the weighted average for $\\bar{R_{em}}$ and $\\sigma_{\\bar{R_{em}}}$\n",
    "To calculate the weighted average for our e/m Ratio we must refer back to equation (7) & (8). Let't create the appropriate equation.\n",
    "<p style=\"text-align:center; font-size:1.5em;\">$\\bar{R_{em}} = \\frac{\\sum_{i=1}^N\\frac{R_{em_{i}}}{\\sigma_{R_{em_{i}}}^2}}{\\sum_{i=1}^N\\frac{1}{\\sigma_{R_{em_{i}}}^2}}$\n",
    "</p> \n",
    "\n",
    "<p style=\"text-align:center; font-size:1.5em;\">$\\sigma_{\\bar{R_{em}}} = \\sqrt{\\frac{1}{\\sum_{i=1}^N\\frac{1}{\\sigma_{R_{em_{i}}}^2}}}$\n",
    "</p>\n",
    "\n",
    "For sums we will use the sum function within <code>numpy</code> where numpy.sum() adds up everything in a column/row of a matrix, an array, or a list of numbers. Lets run the cell below to see how numpy works with a <code>pandas.DataFrame</code> object.\n",
    "\n",
    "Numpy also works for doing math over several data points so we can even take the square root of the sample current as well!"
   ]
  },
  {
   "cell_type": "code",
   "execution_count": 17,
   "metadata": {},
   "outputs": [
    {
     "name": "stdout",
     "output_type": "stream",
     "text": [
      "The sum of our sample current is 10.0\n",
      "The square roots of our sample current data points are [ 1.          1.41421356  1.73205081  2.        ]\n"
     ]
    }
   ],
   "source": [
    "# Numpy Variable Sum Example\n",
    "\n",
    "ISum = np.sum(data[\"Current(A)\"])\n",
    "\n",
    "print(\"The sum of our sample current is \" + str(ISum))\n",
    "\n",
    "# Numpy Square Root of Data Set\n",
    "\n",
    "sQrt = np.sqrt(data[\"Current(A)\"])\n",
    "\n",
    "print(\"The square roots of our sample current data points are \" + str(sQrt))"
   ]
  },
  {
   "cell_type": "markdown",
   "metadata": {},
   "source": [
    "Notice how we are able to get the sum of just the sample data current and be able to apply a square root over all the data points. Being able to use a function over several data points is what makes <code>numpy</code> so powerful. Every data analyst/experimental physicist should know numpy like the back of their hands."
   ]
  },
  {
   "cell_type": "code",
   "execution_count": 18,
   "metadata": {},
   "outputs": [
    {
     "data": {
      "text/plain": [
       "'\\nSince our Ratios and our error ratios are in our data set it makes like a whole lot easier. If we w'"
      ]
     },
     "execution_count": 18,
     "metadata": {},
     "output_type": "execute_result"
    }
   ],
   "source": [
    "# GRADED FUNCTION\n",
    "'''\n",
    "Since our Ratios and our error ratios are in our data set it makes like a whole lot easier. \n",
    "We can call the data and then create the required functions to calculate the weighted Ratio average and its error. \n",
    "This time instead of doing two separate functions to calculate the error and the variable in question we will make it \n",
    "in one function.\n",
    "\n",
    "Hint: Look at how the data is returned by the function.\n",
    "'''\n",
    "### START CODE HERE ###\n",
    "def AvRem(Voltage_Data):\n",
    "    AvRem = None\n",
    "    AvRem_err = None\n",
    "    \n",
    "    return AvRem, AvRem_err\n",
    "\n",
    "# Append the weighted mean and its error to the data set, then print out your data set tables\n",
    "\n",
    "_150V[\"Weighted Mean Ratio\"], _150V[\"Weighted Mean Ratio Error\"] = None\n",
    "_200V[\"Weighted Mean Ratio\"], _200V[\"Weighted Mean Ratio Error\"]= None\n",
    "_300V[\"Weighted Mean Ratio\"], _300V[\"Weighted Mean Ratio Error\"] = None\n",
    "_400V[\"Weighted Mean Ratio\"], _400V[\"Weighted Mean Ratio Error\"] = None\n",
    "\n",
    "\n",
    "\n",
    "\n",
    "### END CODE HERE "
   ]
  },
  {
   "cell_type": "markdown",
   "metadata": {},
   "source": [
    "## 7. Lab Report\n",
    "Well if you executed the appropriate functions and have the table values shown above then you have completed the charge-to-mass ratio lab! Remember to state your sources of error and relate it to the actual charge-to-mass ratio. We have given you the actual charge-to-mass ratio and ask you to compare it using your data set. Use your weighted mean ratio for comparison.\n",
    "\n",
    "### Structure\n",
    "\n",
    "#### Introduction\n",
    "A summary of what is to be investigated and the physics principles that are applied to do so. (This means often a summary of the given experiment description in your own words) You don’t need to include the original lab description.\n",
    "#### Experiment: Setup and Data\n",
    "A drawing (not by hand) of the setup and all data taken including the estimated uncertainties. You do not need to include spectra or logger pro files (which contain hundreds of data points) in numeric form, but you need to shown them as plots.\n",
    "#### Data and Error Analysis\n",
    "Describe all details of your data analysis <b>including your error analysis</b> in such a way that another person who is reading your report can reproduce your analysis and your results. <b>A report without a thorough error analysis is not acceptable!</b> All your plots must have properly labeled axes, titles and all experimental data points must have error bars. You need to describe in your report what your plots show. For information on error analysis see: <a href=\"http://wanda.fiu.edu/teaching/courses/Modern_lab_manual/experimental_errors.html\">Summary of Error Analysis and Statistical Methods</a>\n",
    "#### Summary and Conclusion\n",
    "A summary of your final results and a comparison to published results. Compare your result with published data, does your result deviate and if so how large is the deviation in terms of your estimated error. What can you conclude from this ? What could be improved in order to improve the measurement?\n"
   ]
  },
  {
   "cell_type": "code",
   "execution_count": null,
   "metadata": {
    "collapsed": true
   },
   "outputs": [],
   "source": []
  }
 ],
 "metadata": {
  "kernelspec": {
   "display_name": "Python 3",
   "language": "python",
   "name": "python3"
  },
  "language_info": {
   "codemirror_mode": {
    "name": "ipython",
    "version": 3
   },
   "file_extension": ".py",
   "mimetype": "text/x-python",
   "name": "python",
   "nbconvert_exporter": "python",
   "pygments_lexer": "ipython3",
   "version": "3.6.1"
  }
 },
 "nbformat": 4,
 "nbformat_minor": 2
}
