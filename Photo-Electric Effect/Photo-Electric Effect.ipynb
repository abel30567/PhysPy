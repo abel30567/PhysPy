{
 "cells": [
  {
   "cell_type": "markdown",
   "metadata": {},
   "source": [
    "# Photo-Electric Effect \n",
    "\n",
    "## Background\n",
    "\n",
    "The experiment serves to demonstrate the photoelectric effect, for which Einstein was awarded a Nobel prize, and in the process determine Planck’s constant, $h$.\n",
    "\n",
    "The photoelectric effect is the process whereby a photon of energy $E=h\\nu$, incident on the surface of a conductor, transfers its energy to one of the electrons of an atom. If the energy is sufficient, the electron can not only escape from the material, but do so with a certain amount of kinetic energy. If the electron is in the highest available energy state within the conductor, the least amount of energy, $\\phi$, is needed to free it, and it will escape with the maximum kinetic energy.  $\\phi$ is called the <b style=\"background-color:##fff8dc;\">work function</b> of the conducting material.\n",
    "\n",
    "<img style=\"width:50%; margin-right:30%;\" src=\"PhotoEffect_Fig1.png\">\n",
    "\n",
    ">Figure 1: Schematic of the photo-electric effect experiment. A photon hits the conducting anode and knocks out an        electron. All electrons that have sufficient kinetic energy to reach the cathode produce an electric current. The               adjustable stopping voltage determines the minimal kinetic energy the electrons need.\n",
    "          \n",
    "            \n",
    "If the conductor forms the anode of a phototube, as shown in Fig. 1, no electrons will reach the cathode if the potential difference (retarding potential) between the anode and cathode is adjusted to the minimum value necessary to stop the fastest electrons. The loss of kinetic energy is then balanced by the gain of potential energy, $e V_s$, and the energy equation is given by\n",
    "\n",
    "<p style=\"text-align:center;font-size:1.5em;\">  $h\\nu = e V_s + \\phi$  <strong style=\"float:right;\">(1)</strong></p>\n",
    "\n",
    "where $V_s$ is called the <b style=\"background-color:###fff8dc;\">stopping potential</b>. The <b style=\"background-color:###fff8dc;\">threshold frequency</b>, $\\nu_0$, is the minimum photon frequency capable of eliciting the photoelectric effect. It is obtained by setting $V_s = 0$ in equation (1):\n",
    "\n",
    "<p style=\"text-align:center; font-size:1.5em;\">  $\\nu_0 = \\frac{\\phi}{h}$  <strong style=\"float:right;\">(2)</strong></p> \n",
    "\n",
    "In the experiment, a monochromator is used to isolate a number of different wavelengths from a mercury lamp, and for each the stopping potential is determined. From the data, $h$, $\\phi$, and $\\nu_0$ may be determined. \n",
    "\n",
    "### Experimental Equipment\n",
    "\n",
    "The setup for this experiment is shown in Fig. 2. It consists of a mercury lamp, a monochromator, the photocell with a control for the stopping voltage and a current amplifier with a zero adjust for the photo-current measurement. **Be careful with the mercury lamp. It is made of quartz, emits UV and gets very hot.**\n",
    "\n",
    "<img style=\"width:60%; margin-right:22%\"src=\"PhotoEffect_Fig2.png\">\n",
    "\n",
    ">Figure 2: Overview of the main equipment parts of the photo-electric effect experiments.\n",
    "\n",
    "\n",
    "You will also need two additional digital multimeters to measure the stopping voltage and the photo current. A close-up of the instrument is shown in Fig. 3.\n",
    "\n",
    "<img style=\"width:60%; margin-right:22%\"src=\"PhotoEffect_Fig3_1.png\">\n",
    "\n",
    ">Figure 3: The monochromator and the instrument containing the photocell. The instrument can be removed when the sleeve is pushed toward the monochromator. Then the exit slit can be viewed to select which Hg spectral line is used. Then you remove the instrument make sure that it is either turned off or that the stopping voltage is at a maximum (know turned CW as far as it goes)\n",
    "\n",
    "The wavelength can be adjusted by turning the knob at the side if the monochromator (this rotates the grating inside the monochromator). An arrow indicates the direction towards shorter $\\lambda$\n",
    "\n",
    "## Experimental Procedure\n",
    "\n",
    "**DAMAGE COULD RESULT IF THE UNIT IS TURNED ON WHILE THE PHOTOELECTRIC CELL IS EXPOSED TO ROOM LIGHT OR INTENSE LIGHT**\n",
    "\n",
    "1. Turn on the mercury lamp and wait for about 5 minutes until it reaches its full intensity. Connect one of the digital multimeters to measure the retarding potential and set it to the 20 V DC range.\n",
    "2. Connect the second multimeter to measure the photoelectric cell current (thereby duplicating the reading on the less accurate built-in milliammeter) and set it to the 2 mA DC range.\n",
    "3. By turning the wavelength control on the side of the monochromator, different spectral lines will become visible at the exit slit. Those to be used are: yellow (578 nm), green (546 nm), blue (436 nm) violet (405) and ultra-violet (365 nm). The violet appears relatively faint and the ultra-violet is, of course, invisible.\n",
    "4. Adjust the wavelength control until the yellow line is visible.\n",
    "5. Place the photoelectric cell on the stand forming a light tight seal with the monochromator.\n",
    "6. Turn the “voltage adjust” control fully clockwise (maximum retarding potential) and then switch on the power switch.\n",
    "7. Cover the entrance slit of the monochromator to prevent light entering and adjust the “zero adjust” until zero current is obtained. This is a very delicate adjustment and you may not be able to obtain a precise zero.\n",
    "8. Let the light back into the system. Turn the “voltage adjust” control in a counter-clockwise direction, thereby reducing the retarding potential, until a current of about 1 mA is registered. Now adjust the wavelength control until the current is maximum. You have now optimized the monochromator for 578 nm.\n",
    "9. Turn the “voltage adjust” control fully clockwise (maximum retarding potential) Before recording the “stopping potential”, double check the zero setting, blocking the light as before. After you let the light back into the system you will notice a small negative current which is normal. Try to figure out where this current is coming from.\n",
    "10. Measure the current as a function of the retarding potential by reducing the retarding voltage first in increments of 0.5 V and as soon as you see a noticeable increase decrease the voltage steps in such a way that you have about 10 measurements up to a current of about 0.5 mA.\n",
    "11. Having completed this wavelength, turn the “voltage adjust” control fully clockwise and remove the photoelectric cell so that you can adjust the monochromator for the next spectral line. Repeat the above procedures for each line in turn. The ultra- violet line will have to be found by adjusting the wavelength control beyond the position for the violet line until a current is registered. Keep adjusting the “voltage adjust” control to prevent the current reading from going off-scale while seeking the maximum current.\n",
    "\n",
    "\n"
   ]
  },
  {
   "cell_type": "code",
   "execution_count": null,
   "metadata": {
    "collapsed": true
   },
   "outputs": [],
   "source": [
    "### IMPORTING REQUIRED PACKAGES ###\n",
    "'''\n",
    "Use this cell to import the necessary packages\n",
    "HINT: The same packages as our past labs\n",
    "'''\n"
   ]
  },
  {
   "cell_type": "code",
   "execution_count": 1,
   "metadata": {},
   "outputs": [
    {
     "data": {
      "text/plain": [
       "'\\nRemember that we are measuring the Current and Voltage for multiple wavelengths of light\\n\\n'"
      ]
     },
     "execution_count": 1,
     "metadata": {},
     "output_type": "execute_result"
    }
   ],
   "source": [
    "### Creating the Data Sets ###\n",
    "'''\n",
    "Remember that we are measuring the Current and Voltage for multiple wavelengths of light.\n",
    "One way we can store all this data is to make separate data sets corresponding to each wavelength which,\n",
    "they themselves, contain the measured currents, voltages, and their associated errors.\n",
    "'''\n",
    "### CODE STARTS HERE ###\n",
    "Yellow_data = {'Voltage':[],\n",
    "               'Voltage_err':[],\n",
    "               'Current':[],\n",
    "               'Current_err':[]}\n",
    "\n",
    "'''Above is an example template for yellow light.\n",
    "Construct and fill in the data sets for the the remaining \n",
    "colors (Green, Blue, Violet, Ultra-Violet)'''\n",
    "\n",
    "### CODE ENDS HERE ###"
   ]
  },
  {
   "cell_type": "markdown",
   "metadata": {},
   "source": [
    "## Data Analysis\n",
    "\n",
    "The goal of the analysis is to carefully determine the minimal retarding voltage from which one can determine kinetic energy of the ejected photo-electrons\n",
    "\n",
    "<img style=\"width:60%; margin-right:22%\"src=\"PhotoEffect_Fig4.png\">\n",
    "\n",
    ">Figure 4: Typical current vs. stopping voltage ($V_s$) curve for the UV line. Note the *knee* and the two limiting lines fitted to determine the range of values for the stopping voltage.\n",
    "\n",
    "Each data set taken for a specific wavelength needs to be analyzed separately and the general method is as follows:\n",
    "\n",
    "<b>(1)  </b> Plot the measured current, $I$ as a function of the stopping potential $V_s$. A typical example is shown in Fig. 4. Note that the current increases smoothly and it is not obvious how to determine the exact value of the minimal value of $V_s$. A possibility is to fit a line to the data where $V_s$ is large and the current changes only lightly. In the area where you see the \"knee\" in the curve select a second range of points where the current starts to rise (typically a current increase of 200 - 400 $\\mu A$ works well). Fit a second line to these data and calculate the intersection of the two lines. The value for $V_s$ at the intersection can then be interpreted as the minimal stopping potential to prevent electrons from reaching the anode and the potential energy of the electrons when they just reach the anode corresponds to their kinetic energy when the were just ejected from the cathode. In order to get an estimate of the uncertainty use limiting cases in your selection of data points to determine these two lines (see Fig. 4 )\n",
    "\n",
    "### Analysis Hints\n",
    "\n",
    "```python\n",
    "import numpy as np\n",
    "import matplotlib.pyplot as plt\n",
    "```\n",
    "\n",
    "The following calculates the slope (m) and intercept (b) of the data its given\n",
    "\n",
    "```python\n",
    "m, b = np.polyfit( xvalues, yvalues, deg = 1) \n",
    "```\n",
    "\n",
    "To plot multiple lines onto the same graph, input the x and y values\n",
    "for the first line followed by a comma and the x,y values for the following line.\n",
    "This case in particular shows how two lines can be plot together\n",
    "\n",
    "```python\n",
    "plt.plot(xvalues, yvalues, 'bo', x2, y2, 'r-') \n",
    "```\n",
    "\n",
    "The following selects elements 3 through 7 excluding 7 of some array named 'arrayname'.\n",
    "\n",
    "```python\n",
    "sub_array = arrayname[3:7] \n",
    "```\n",
    "\n",
    "They can all be used together to\n",
    "\n",
    "```python\n",
    "data = {'xvalues': [],\n",
    "       'yvalues': []}\n",
    "\n",
    "m, b = np.polyfit( data['xvalues'][3:7], data['yvalues'][3:7], deg = 1)\n",
    "```\n",
    "\n",
    "The following plots the measured data along with a linear fit that ranges from 3:7\n",
    "\n",
    "```python\n",
    "x1 = np.asarray(data[xvalues][3:7])\n",
    "\n",
    "y1 = m * np.asarray(data[yvalues][3:7]) + b\n",
    "\n",
    "plt.plot( xvalues, yvalues, 'bo', x1, y1, 'r-')\n",
    "\n",
    "plt.show()\n",
    "```\n",
    " Our end result should be a plot with one linear line of best fit."
   ]
  },
  {
   "cell_type": "code",
   "execution_count": 2,
   "metadata": {
    "collapsed": true
   },
   "outputs": [],
   "source": [
    "#import matplotlib.pyplot as plt\n",
    "#import numpy as np\n",
    "\n",
    "### CODE STARTS HERE ###\n",
    "\n",
    "'''\n",
    "For each wavelength of light, plot their corresponding measured data and\n",
    "apply the limiting lines to find a range for their corresponding stopping voltage. \n",
    "\n",
    "Since we will be doing a repeated process, lets create a function instead of rewriting the same code \n",
    "over and over again. x1, y1 and color1 stand for the first line of best fit and its corresponding color. \n",
    "You might want to look up some matplotlib color values.\n",
    "'''\n",
    "def Photoplot(xvalues, yvalues, data_color, x1, y1, color1, x2, y2, color2, x3, y3, color3):\n",
    "\n",
    "### CODE ENDS HERE ###\n"
   ]
  },
  {
   "cell_type": "code",
   "execution_count": null,
   "metadata": {
    "collapsed": true
   },
   "outputs": [],
   "source": [
    "### CODE STARTS HERE ###\n",
    "\n",
    "'''\n",
    "Create a new data set containing the wavelengths of light tested along\n",
    "with their corresponding stopping voltages and uncertainties\n",
    "'''\n",
    "### CODE ENDS HERE ###\n",
    "\n"
   ]
  },
  {
   "cell_type": "markdown",
   "metadata": {},
   "source": [
    "<b>2) </b> Use the stopping voltages you determined  and their uncertainties determined in the previous step to determine $h$ and $\\phi$ by fitting a line to the measured electron energies as a function of the frequency of the light. Recall equation (1):\n",
    "\n",
    "<p style=\"text-align:center;\">  $h\\nu = e V_s + \\phi$  <b style=\"float:right;\">(1)</b></p>"
   ]
  },
  {
   "cell_type": "code",
   "execution_count": null,
   "metadata": {
    "collapsed": true
   },
   "outputs": [],
   "source": []
  },
  {
   "cell_type": "markdown",
   "metadata": {},
   "source": [
    "<b>3)</b> Why do you measure a current in the opposite direction of the photo current when $V_s$ is maximal and you carefully zeroed the current measurement? "
   ]
  },
  {
   "cell_type": "markdown",
   "metadata": {},
   "source": [
    "Type answer here"
   ]
  }
 ],
 "metadata": {
  "kernelspec": {
   "display_name": "Python 3",
   "language": "python",
   "name": "python3"
  },
  "language_info": {
   "codemirror_mode": {
    "name": "ipython",
    "version": 3
   },
   "file_extension": ".py",
   "mimetype": "text/x-python",
   "name": "python",
   "nbconvert_exporter": "python",
   "pygments_lexer": "ipython3",
   "version": "3.6.2"
  }
 },
 "nbformat": 4,
 "nbformat_minor": 2
}
